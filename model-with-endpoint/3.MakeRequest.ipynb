{
 "cells": [
  {
   "cell_type": "code",
   "execution_count": 1,
   "metadata": {},
   "outputs": [],
   "source": [
    "import requests\n",
    "import json"
   ]
  },
  {
   "cell_type": "code",
   "execution_count": 2,
   "metadata": {},
   "outputs": [],
   "source": [
    "import pandas as pd"
   ]
  },
  {
   "cell_type": "code",
   "execution_count": 3,
   "metadata": {},
   "outputs": [],
   "source": [
    "url = 'http://127.0.0.1:1081/predict'  #prediction local end-point"
   ]
  },
  {
   "cell_type": "code",
   "execution_count": 4,
   "metadata": {},
   "outputs": [],
   "source": [
    "df = pd.read_csv('HousingData_test.csv')"
   ]
  },
  {
   "cell_type": "code",
   "execution_count": 5,
   "metadata": {},
   "outputs": [],
   "source": [
    "df.dropna(inplace=True)"
   ]
  },
  {
   "cell_type": "code",
   "execution_count": 6,
   "metadata": {
    "scrolled": true
   },
   "outputs": [
    {
     "data": {
      "text/html": [
       "<div>\n",
       "<style scoped>\n",
       "    .dataframe tbody tr th:only-of-type {\n",
       "        vertical-align: middle;\n",
       "    }\n",
       "\n",
       "    .dataframe tbody tr th {\n",
       "        vertical-align: top;\n",
       "    }\n",
       "\n",
       "    .dataframe thead th {\n",
       "        text-align: right;\n",
       "    }\n",
       "</style>\n",
       "<table border=\"1\" class=\"dataframe\">\n",
       "  <thead>\n",
       "    <tr style=\"text-align: right;\">\n",
       "      <th></th>\n",
       "      <th>CRIM</th>\n",
       "      <th>ZN</th>\n",
       "      <th>INDUS</th>\n",
       "      <th>CHAS</th>\n",
       "      <th>NOX</th>\n",
       "      <th>RM</th>\n",
       "      <th>AGE</th>\n",
       "      <th>DIS</th>\n",
       "      <th>RAD</th>\n",
       "      <th>TAX</th>\n",
       "      <th>PTRATIO</th>\n",
       "      <th>B</th>\n",
       "      <th>LSTAT</th>\n",
       "    </tr>\n",
       "  </thead>\n",
       "  <tbody>\n",
       "    <tr>\n",
       "      <th>0</th>\n",
       "      <td>9.39063</td>\n",
       "      <td>0.0</td>\n",
       "      <td>18.1</td>\n",
       "      <td>0.0</td>\n",
       "      <td>0.740</td>\n",
       "      <td>5.627</td>\n",
       "      <td>93.9</td>\n",
       "      <td>1.8172</td>\n",
       "      <td>24</td>\n",
       "      <td>666</td>\n",
       "      <td>20.2</td>\n",
       "      <td>396.90</td>\n",
       "      <td>22.88</td>\n",
       "    </tr>\n",
       "    <tr>\n",
       "      <th>4</th>\n",
       "      <td>23.64820</td>\n",
       "      <td>0.0</td>\n",
       "      <td>18.1</td>\n",
       "      <td>0.0</td>\n",
       "      <td>0.671</td>\n",
       "      <td>6.380</td>\n",
       "      <td>96.2</td>\n",
       "      <td>1.3861</td>\n",
       "      <td>24</td>\n",
       "      <td>666</td>\n",
       "      <td>20.2</td>\n",
       "      <td>396.90</td>\n",
       "      <td>23.69</td>\n",
       "    </tr>\n",
       "    <tr>\n",
       "      <th>5</th>\n",
       "      <td>17.86670</td>\n",
       "      <td>0.0</td>\n",
       "      <td>18.1</td>\n",
       "      <td>0.0</td>\n",
       "      <td>0.671</td>\n",
       "      <td>6.223</td>\n",
       "      <td>100.0</td>\n",
       "      <td>1.3861</td>\n",
       "      <td>24</td>\n",
       "      <td>666</td>\n",
       "      <td>20.2</td>\n",
       "      <td>393.74</td>\n",
       "      <td>21.78</td>\n",
       "    </tr>\n",
       "    <tr>\n",
       "      <th>6</th>\n",
       "      <td>88.97620</td>\n",
       "      <td>0.0</td>\n",
       "      <td>18.1</td>\n",
       "      <td>0.0</td>\n",
       "      <td>0.671</td>\n",
       "      <td>6.968</td>\n",
       "      <td>91.9</td>\n",
       "      <td>1.4165</td>\n",
       "      <td>24</td>\n",
       "      <td>666</td>\n",
       "      <td>20.2</td>\n",
       "      <td>396.90</td>\n",
       "      <td>17.21</td>\n",
       "    </tr>\n",
       "    <tr>\n",
       "      <th>7</th>\n",
       "      <td>15.87440</td>\n",
       "      <td>0.0</td>\n",
       "      <td>18.1</td>\n",
       "      <td>0.0</td>\n",
       "      <td>0.671</td>\n",
       "      <td>6.545</td>\n",
       "      <td>99.1</td>\n",
       "      <td>1.5192</td>\n",
       "      <td>24</td>\n",
       "      <td>666</td>\n",
       "      <td>20.2</td>\n",
       "      <td>396.90</td>\n",
       "      <td>21.08</td>\n",
       "    </tr>\n",
       "  </tbody>\n",
       "</table>\n",
       "</div>"
      ],
      "text/plain": [
       "       CRIM   ZN  INDUS  CHAS    NOX     RM    AGE     DIS  RAD  TAX  PTRATIO  \\\n",
       "0   9.39063  0.0   18.1   0.0  0.740  5.627   93.9  1.8172   24  666     20.2   \n",
       "4  23.64820  0.0   18.1   0.0  0.671  6.380   96.2  1.3861   24  666     20.2   \n",
       "5  17.86670  0.0   18.1   0.0  0.671  6.223  100.0  1.3861   24  666     20.2   \n",
       "6  88.97620  0.0   18.1   0.0  0.671  6.968   91.9  1.4165   24  666     20.2   \n",
       "7  15.87440  0.0   18.1   0.0  0.671  6.545   99.1  1.5192   24  666     20.2   \n",
       "\n",
       "        B  LSTAT  \n",
       "0  396.90  22.88  \n",
       "4  396.90  23.69  \n",
       "5  393.74  21.78  \n",
       "6  396.90  17.21  \n",
       "7  396.90  21.08  "
      ]
     },
     "execution_count": 6,
     "metadata": {},
     "output_type": "execute_result"
    }
   ],
   "source": [
    "df.head()"
   ]
  },
  {
   "cell_type": "code",
   "execution_count": 7,
   "metadata": {},
   "outputs": [],
   "source": [
    "# make a post request with the features to get the target regression for that row.\n",
    "def post_request(row):\n",
    "    body = {        \n",
    "        'CRIM': row['CRIM'] , \n",
    "        'ZN': row['ZN'], \n",
    "        'INDUS': row['INDUS'], \n",
    "        'CHAS': row['CHAS'], \n",
    "        'NOX': row['NOX'], \n",
    "        'RM': row['RM'], \n",
    "        'AGE': row['AGE'], \n",
    "        'DIS': row['DIS'], \n",
    "        'RAD': row['RAD'], \n",
    "        'TAX': row['TAX'],\n",
    "        'PTRATIO': row['PTRATIO'], \n",
    "        'B': row['B'], \n",
    "        'LSTAT': row['LSTAT'],       \n",
    "    }\n",
    "    try:\n",
    "        response = requests.post(url, data=body)\n",
    "        return response.json()\n",
    "    except:\n",
    "        response = {'prediction': 'ERROR'}\n",
    "        return json.dumps(response)"
   ]
  },
  {
   "cell_type": "code",
   "execution_count": 9,
   "metadata": {
    "scrolled": true
   },
   "outputs": [
    {
     "data": {
      "text/plain": [
       "0     {'Prediction': 13.178272324295044}\n",
       "4      {'Prediction': 17.66318060672338}\n",
       "5      {'Prediction': 18.05968423505182}\n",
       "6     {'Prediction': 20.688548642976183}\n",
       "7     {'Prediction': 19.518089523335387}\n",
       "8     {'Prediction': 21.043199110800064}\n",
       "9      {'Prediction': 18.38551445453976}\n",
       "10     {'Prediction': 17.19966495872542}\n",
       "11    {'Prediction': 20.592543035197398}\n",
       "12     {'Prediction': 22.19183904139947}\n",
       "13      {'Prediction': 29.0996160666897}\n",
       "15     {'Prediction': 21.63076528327734}\n",
       "16     {'Prediction': 37.72710085809416}\n",
       "17    {'Prediction': 15.816213353686479}\n",
       "18    {'Prediction': 23.399698719337103}\n",
       "19    {'Prediction': 12.253291723019327}\n",
       "21    {'Prediction': 19.967967124980692}\n",
       "22    {'Prediction': 22.428059574965694}\n",
       "23    {'Prediction': 21.924043024202344}\n",
       "25    {'Prediction': 20.847334865900972}\n",
       "26    {'Prediction': 17.375017222448232}\n",
       "27     {'Prediction': 14.17559857878694}\n",
       "28     {'Prediction': 18.87624606211232}\n",
       "29    {'Prediction': 21.212256189268377}\n",
       "30    {'Prediction': 18.362328760867907}\n",
       "31    {'Prediction': 19.761660131299347}\n",
       "32    {'Prediction': 10.785949097580165}\n",
       "33     {'Prediction': 16.84386981436848}\n",
       "34     {'Prediction': 8.378829547410966}\n",
       "35    {'Prediction': 13.471025385024678}\n",
       "36    {'Prediction': 12.782020228190628}\n",
       "37    {'Prediction': 28.217912971498393}\n",
       "38     {'Prediction': 26.46300324911011}\n",
       "dtype: object"
      ]
     },
     "execution_count": 9,
     "metadata": {},
     "output_type": "execute_result"
    }
   ],
   "source": [
    "# for each row in the data frame make a post request to the prediction end-point.\n",
    "df.apply(post_request,axis=1)"
   ]
  },
  {
   "cell_type": "code",
   "execution_count": null,
   "metadata": {},
   "outputs": [],
   "source": []
  },
  {
   "cell_type": "code",
   "execution_count": 3,
   "metadata": {},
   "outputs": [],
   "source": [
    "urltf = 'http://127.0.0.1:1081/predict-tf'"
   ]
  },
  {
   "cell_type": "code",
   "execution_count": 36,
   "metadata": {},
   "outputs": [
    {
     "data": {
      "text/plain": [
       "{'Prediction': 20.888622283935547}"
      ]
     },
     "execution_count": 36,
     "metadata": {},
     "output_type": "execute_result"
    }
   ],
   "source": [
    "body = {        \n",
    "        'CRIM':2 , \n",
    "        'ZN': 2, \n",
    "        'INDUS': 2, \n",
    "        'CHAS': 2, \n",
    "        'NOX': 2, \n",
    "        'RM': 2, \n",
    "        'AGE': 2, \n",
    "        'DIS': 2, \n",
    "        'RAD': 2, \n",
    "        'TAX': 2,\n",
    "        'PTRATIO': 2, \n",
    "        'B': 2, \n",
    "        'LSTAT': 2,       \n",
    "    }\n",
    " \n",
    "response = requests.post(urltf, data=body)\n",
    "response.json()"
   ]
  },
  {
   "cell_type": "code",
   "execution_count": null,
   "metadata": {},
   "outputs": [],
   "source": []
  },
  {
   "cell_type": "code",
   "execution_count": null,
   "metadata": {},
   "outputs": [],
   "source": []
  }
 ],
 "metadata": {
  "kernelspec": {
   "display_name": "Python 3",
   "language": "python",
   "name": "python3"
  },
  "language_info": {
   "codemirror_mode": {
    "name": "ipython",
    "version": 3
   },
   "file_extension": ".py",
   "mimetype": "text/x-python",
   "name": "python",
   "nbconvert_exporter": "python",
   "pygments_lexer": "ipython3",
   "version": "3.8.5"
  }
 },
 "nbformat": 4,
 "nbformat_minor": 4
}
